{
 "cells": [
  {
   "cell_type": "code",
   "execution_count": 5,
   "id": "89ee4ba4",
   "metadata": {},
   "outputs": [
    {
     "name": "stdout",
     "output_type": "stream",
     "text": [
      "   Sample X  Sample Y\n",
      "0         1      1.50\n",
      "1         2      2.25\n",
      "2         3      4.00\n",
      "3         4      3.65\n",
      "4         5      5.00\n",
      "5         6      7.10\n",
      "6         7      7.30\n",
      "7         8      8.90\n",
      "8         9      9.50\n",
      "9        10     11.00\n"
     ]
    },
    {
     "data": {
      "image/png": "[encoded data removed]",
      "text/plain": [
       "<Figure size 432x288 with 1 Axes>"
      ]
     },
     "metadata": {},
     "output_type": "display_data"
    }
   ],
   "source": [
    "import numpy as np\n",
    "import pandas as pd\n",
    "from sklearn import linear_model\n",
    "from sklearn.metrics import mean_squared_error, r2_score\n",
    "\n",
    "data = pd.read_csv('D:/Chrome Downloads/Book1.csv', ',',\n",
    "                   usecols=['Sample X', 'Sample Y', ])\n",
    "print(data)\n",
    "\n",
    "matrix = np.array(data.values,'float')\n",
    "x = matrix[:,0]\n",
    "y = matrix[:,1]\n",
    "\n",
    "x=x.reshape(-1,1)\n",
    "regr = linear_model.LinearRegression()\n",
    "\n",
    "regr.fit(x, y)\n",
    "y_pred = regr.predict(x)\n",
    "\n",
    "import matplotlib.pyplot as plt\n",
    "plt.scatter(x, y,  color='black')\n",
    "plt.plot(x, y_pred, color='blue', linewidth=3)\n",
    "\n",
    "plt.xticks(())\n",
    "plt.yticks(())\n",
    "\n",
    "plt.show()"
   ]
  }
 ],
 "metadata": {
  "kernelspec": {
   "display_name": "Python 3",
   "language": "python",
   "name": "python3"
  },
  "language_info": {
   "codemirror_mode": {
    "name": "ipython",
    "version": 3
   },
   "file_extension": ".py",
   "mimetype": "text/x-python",
   "name": "python",
   "nbconvert_exporter": "python",
   "pygments_lexer": "ipython3",
   "version": "3.8.8"
  }
 },
 "nbformat": 4,
 "nbformat_minor": 5
}
