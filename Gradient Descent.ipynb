{
 "cells": [
  {
   "cell_type": "code",
   "execution_count": 82,
   "id": "64e55f2d",
   "metadata": {},
   "outputs": [
    {
     "name": "stdout",
     "output_type": "stream",
     "text": [
      "   Sample X  Sample Y\n",
      "0         1      1.50\n",
      "1         2      2.25\n",
      "2         3      4.00\n",
      "3         4      3.65\n",
      "4         5      5.00\n",
      "5         6      7.10\n",
      "6         7      7.30\n",
      "7         8      8.90\n",
      "8         9      9.50\n",
      "9        10     11.00\n"
     ]
    },
    {
     "data": {
      "image/png": "[encoded data removed]",
      "text/plain": [
       "<Figure size 432x288 with 1 Axes>"
      ]
     },
     "metadata": {},
     "output_type": "display_data"
    }
   ],
   "source": [
    "#Batch Gradient Descent\n",
    "import numpy as np\n",
    "import pandas as pd\n",
    "import random\n",
    "\n",
    "data = pd.read_csv('D:/Chrome Downloads/Book1.csv', ',',\n",
    "                   usecols=['Sample X', 'Sample Y', ])\n",
    "print(data)\n",
    "\n",
    "matrix = np.array(data.values,'float')\n",
    "x = matrix[:,0]\n",
    "y = matrix[:,1]\n",
    "\n",
    "x=x.flatten()\n",
    "y=y.flatten()\n",
    "\n",
    "N = x.shape[0] # number of samples\n",
    "alpha = 0.01 #learning rate random\n",
    "m=random.uniform(0,5) #slope of random line chosen by us (0-5)\n",
    "c=random.uniform(0,5) #y-intercept of that line\n",
    "\n",
    "\n",
    "\n",
    "#print (alpha)\n",
    "#print (m)\n",
    "#print (c)\n",
    " \n",
    "\n",
    "for j in range (1,1000):\n",
    "    sum_1 =0\n",
    "    for i in range (0,N):\n",
    "        sum_1= sum_1 + x[i]*(m*x[i]+c -y[i])\n",
    "    \n",
    "    sum_2 =0\n",
    "    for k in range (0,N):\n",
    "        sum_2= sum_2 + (m*x[k]+c -y[k] )\n",
    "    \n",
    "    d_m= 2* sum_1/N #gradient w.r.t m\n",
    "    d_c= 2* sum_2/N #gradient w.r.t c\n",
    "\n",
    "    m =m- alpha* d_m #new slope\n",
    "\n",
    "    c =c- alpha* d_c #new y-intercept\n",
    "\n",
    "#print (m)\n",
    "#print (c)\n",
    "matrix_1 = np.array(data.values,'float')\n",
    "for i in range (0,N):\n",
    "    matrix_1[i,1]= m*x[i] + c\n",
    "\n",
    "y_pred =matrix_1[:,1]\n",
    "\n",
    "import matplotlib.pyplot as plt\n",
    "plt.scatter(x, y,  color='black')\n",
    "plt.plot(x, y_pred, color='blue', linewidth=3)\n",
    "\n",
    "plt.xticks(())\n",
    "plt.yticks(())\n",
    "\n",
    "plt.show()"
   ]
  },
  {
   "cell_type": "code",
   "execution_count": 80,
   "id": "6a620bfc",
   "metadata": {},
   "outputs": [
    {
     "data": {
      "image/png": "[encoded data removed]",
      "text/plain": [
       "<Figure size 432x288 with 1 Axes>"
      ]
     },
     "metadata": {},
     "output_type": "display_data"
    }
   ],
   "source": [
    "# Minibatch Gradient\n",
    "\n",
    "n=5 #let number of batches is 5\n",
    "B= 2 #for this case, let's take all mini-batches each of size 2\n",
    "#Let's consider the mini batches are choosen in a particular order(for sake of simplicity)\n",
    "for j in range (1,1000):\n",
    "    for k in range (0,n):\n",
    "        sum_1=0\n",
    "        sum_2=0\n",
    "        for i in range (0,B):\n",
    "            sum_1= sum_1 + x[k*B+i]*(m*x[k*B+i]+c -y[k*B+i])\n",
    "\n",
    "\n",
    "        d_m= 2* sum_1/B #gradient w.r.t m\n",
    "\n",
    "        m =m- alpha* d_m #new slope\n",
    "\n",
    "\n",
    "        for z in range (0,B):\n",
    "            sum_2= sum_2 + (m*x[k*B+z]+c -y[k*B+z] )\n",
    "\n",
    "        d_c= 2* sum_2/B #gradient w.r.t c\n",
    "\n",
    "        c =c- alpha* d_c #new y-intercept\n",
    "\n",
    "#print (m)\n",
    "#print (c)\n",
    "matrix_1 = np.array(data.values,'float')\n",
    "\n",
    "for i in range (0,N):\n",
    "    matrix_1[i,1]= m*x[i] + c\n",
    "\n",
    "y_pred =matrix_1[:,1]\n",
    "\n",
    "plt.scatter(x, y,  color='black')\n",
    "plt.plot(x, y_pred, color='blue', linewidth=3)\n",
    "\n",
    "plt.xticks(())\n",
    "plt.yticks(())\n",
    "\n",
    "plt.show()"
   ]
  },
  {
   "cell_type": "code",
   "execution_count": 81,
   "id": "07ebdf65",
   "metadata": {},
   "outputs": [
    {
     "data": {
      "image/png": "[encoded data removed]",
      "text/plain": [
       "<Figure size 432x288 with 1 Axes>"
      ]
     },
     "metadata": {},
     "output_type": "display_data"
    }
   ],
   "source": [
    "#SGD\n",
    "\n",
    "n=N #number of batches is total number of data points\n",
    "B= 1 #for this case,all mini-batches each of size 1\n",
    "#Let's consider the mini batches are choosen in a particular order(for sake of simplicity)\n",
    "\n",
    "for j in range (1,1000):\n",
    "    for k in range (0,n):\n",
    "        sum_1=0\n",
    "        sum_2=0\n",
    "        for i in range (0,B):\n",
    "            sum_1= sum_1 + x[k*B+i]*(m*x[k*B+i]+c -y[k*B+i])\n",
    "\n",
    "\n",
    "        d_m= 2* sum_1/B #gradient w.r.t m\n",
    "\n",
    "        m =m- alpha* d_m #new slope\n",
    "\n",
    "\n",
    "        for z in range (0,B):\n",
    "            sum_2= sum_2 + (m*x[k*B+z]+c -y[k*B+z] )\n",
    "\n",
    "        d_c= 2* sum_2/B #gradient w.r.t c\n",
    "\n",
    "        c =c- alpha* d_c #new y-intercept\n",
    "\n",
    "#print (m)\n",
    "#print (c)\n",
    "matrix_1 = np.array(data.values,'float')\n",
    "\n",
    "for i in range (0,N):\n",
    "    matrix_1[i,1]= m*x[i] + c\n",
    "\n",
    "y_pred =matrix_1[:,1]\n",
    "\n",
    "plt.scatter(x, y,  color='black')\n",
    "plt.plot(x, y_pred, color='blue', linewidth=3)\n",
    "\n",
    "plt.xticks(())\n",
    "plt.yticks(())\n",
    "\n",
    "plt.show()"
   ]
  }
 ],
 "metadata": {
  "kernelspec": {
   "display_name": "Python 3",
   "language": "python",
   "name": "python3"
  },
  "language_info": {
   "codemirror_mode": {
    "name": "ipython",
    "version": 3
   },
   "file_extension": ".py",
   "mimetype": "text/x-python",
   "name": "python",
   "nbconvert_exporter": "python",
   "pygments_lexer": "ipython3",
   "version": "3.8.8"
  }
 },
 "nbformat": 4,
 "nbformat_minor": 5
}
